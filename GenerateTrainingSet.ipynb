{
 "cells": [
  {
   "cell_type": "code",
   "execution_count": 13,
   "id": "8a2fb9dd",
   "metadata": {},
   "outputs": [],
   "source": [
    "import json"
   ]
  },
  {
   "cell_type": "code",
   "execution_count": 14,
   "id": "9eab692b",
   "metadata": {},
   "outputs": [],
   "source": [
    "training_examples = []\n",
    "with open(\"a.txt\", \"r\", encoding=\"utf-8\") as f:\n",
    "    for l in f:\n",
    "        training_examples.append(json.loads(l))"
   ]
  },
  {
   "cell_type": "code",
   "execution_count": 15,
   "id": "6d5dfc1e",
   "metadata": {},
   "outputs": [],
   "source": [
    "bad_examples = []\n",
    "with open(\"a_wrong.txt\", \"r\", encoding=\"utf-8\") as f:\n",
    "    for l in f:\n",
    "        bad_examples.append(json.loads(l))"
   ]
  },
  {
   "cell_type": "code",
   "execution_count": 16,
   "id": "c496e3c6",
   "metadata": {},
   "outputs": [],
   "source": [
    "from main import extract_features, compare_features"
   ]
  },
  {
   "cell_type": "code",
   "execution_count": 17,
   "id": "26db62a6",
   "metadata": {},
   "outputs": [],
   "source": [
    "features = [extract_features(e) for e in training_examples]"
   ]
  },
  {
   "cell_type": "code",
   "execution_count": 18,
   "id": "0fa4f5d9",
   "metadata": {},
   "outputs": [],
   "source": [
    "bad_features = [extract_features(e) for e in bad_examples]"
   ]
  },
  {
   "cell_type": "code",
   "execution_count": 19,
   "id": "15c20e83",
   "metadata": {},
   "outputs": [
    {
     "name": "stdout",
     "output_type": "stream",
     "text": [
      "85.30766797023803\n"
     ]
    }
   ],
   "source": [
    "for i in range(1,len(features)):\n",
    "    distance = compare_features(features[0], features[i])\n",
    "    print (distance)"
   ]
  },
  {
   "cell_type": "code",
   "execution_count": 20,
   "id": "01fc4286",
   "metadata": {},
   "outputs": [
    {
     "name": "stdout",
     "output_type": "stream",
     "text": [
      "132.41350489649318\n",
      "213.73055092422712\n"
     ]
    }
   ],
   "source": [
    "for i in range(0,len(bad_features)):\n",
    "    distance = compare_features(features[0], bad_features[i])\n",
    "    print (distance)"
   ]
  },
  {
   "cell_type": "code",
   "execution_count": null,
   "id": "36e684e8",
   "metadata": {},
   "outputs": [],
   "source": []
  }
 ],
 "metadata": {
  "kernelspec": {
   "display_name": "Python 3 (ipykernel)",
   "language": "python",
   "name": "python3"
  },
  "language_info": {
   "codemirror_mode": {
    "name": "ipython",
    "version": 3
   },
   "file_extension": ".py",
   "mimetype": "text/x-python",
   "name": "python",
   "nbconvert_exporter": "python",
   "pygments_lexer": "ipython3",
   "version": "3.9.7"
  }
 },
 "nbformat": 4,
 "nbformat_minor": 5
}
