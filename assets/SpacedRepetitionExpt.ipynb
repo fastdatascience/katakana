{
 "cells": [
  {
   "cell_type": "code",
   "execution_count": 29,
   "id": "6d28b82b",
   "metadata": {},
   "outputs": [],
   "source": [
    "characters = [\"a\", \"e\", \"i\", \"o\", \"u\", \"ka\", \"ke\", \"chi\", \"ko\", \"ku\"]"
   ]
  },
  {
   "cell_type": "markdown",
   "id": "b3fb7cb8",
   "metadata": {},
   "source": [
    "Use Leitner algorithm\n",
    "\n",
    "https://ncase.me/remember/"
   ]
  },
  {
   "cell_type": "code",
   "execution_count": 30,
   "id": "ed5e932f",
   "metadata": {},
   "outputs": [],
   "source": [
    "scores = {}"
   ]
  },
  {
   "cell_type": "code",
   "execution_count": 31,
   "id": "6c6daa37",
   "metadata": {},
   "outputs": [],
   "source": [
    "for c in characters:\n",
    "    scores[c] = 0"
   ]
  },
  {
   "cell_type": "code",
   "execution_count": 32,
   "id": "7428d1c8",
   "metadata": {},
   "outputs": [],
   "source": [
    "is_seen = set()"
   ]
  },
  {
   "cell_type": "code",
   "execution_count": 33,
   "id": "ac7a888a",
   "metadata": {},
   "outputs": [],
   "source": [
    "NUM_LEVELS = 7"
   ]
  },
  {
   "cell_type": "code",
   "execution_count": 34,
   "id": "2cf89370",
   "metadata": {},
   "outputs": [],
   "source": [
    "MAX_NEW_CARDS = 5"
   ]
  },
  {
   "cell_type": "code",
   "execution_count": 35,
   "id": "1627cfb8",
   "metadata": {},
   "outputs": [],
   "source": [
    "import operator"
   ]
  },
  {
   "cell_type": "code",
   "execution_count": 36,
   "id": "696a6bfc",
   "metadata": {},
   "outputs": [],
   "source": [
    "import random, time"
   ]
  },
  {
   "cell_type": "code",
   "execution_count": 45,
   "id": "dfc11e9e",
   "metadata": {},
   "outputs": [
    {
     "name": "stdout",
     "output_type": "stream",
     "text": [
      "Scores are {'a': 0, 'e': 0, 'i': 0, 'o': 0, 'u': 0, 'ka': 0, 'ke': 0, 'chi': 0, 'ko': 0, 'ku': 0} is_seen set()\n",
      "Show user ko\n",
      "is answer correct?1\n",
      "Scores are {'a': 0, 'e': 0, 'i': 0, 'o': 0, 'u': 0, 'ka': 0, 'ke': 0, 'chi': 0, 'ko': 1, 'ku': 0} is_seen {'ko'}\n",
      "Show user chi\n",
      "is answer correct?1\n",
      "Scores are {'a': 0, 'e': 0, 'i': 0, 'o': 0, 'u': 0, 'ka': 0, 'ke': 0, 'chi': 1, 'ko': 1, 'ku': 0} is_seen {'chi', 'ko'}\n",
      "Show user ke\n"
     ]
    },
    {
     "ename": "KeyboardInterrupt",
     "evalue": "Interrupted by user",
     "output_type": "error",
     "traceback": [
      "\u001b[0;31m---------------------------------------------------------------------------\u001b[0m",
      "\u001b[0;31mKeyboardInterrupt\u001b[0m                         Traceback (most recent call last)",
      "\u001b[0;32m/tmp/ipykernel_84798/4262832369.py\u001b[0m in \u001b[0;36m<module>\u001b[0;34m\u001b[0m\n\u001b[1;32m     20\u001b[0m     \u001b[0mtime\u001b[0m\u001b[0;34m.\u001b[0m\u001b[0msleep\u001b[0m\u001b[0;34m(\u001b[0m\u001b[0;36m0.5\u001b[0m\u001b[0;34m)\u001b[0m\u001b[0;34m\u001b[0m\u001b[0;34m\u001b[0m\u001b[0m\n\u001b[1;32m     21\u001b[0m \u001b[0;34m\u001b[0m\u001b[0m\n\u001b[0;32m---> 22\u001b[0;31m     \u001b[0mis_response_correct\u001b[0m \u001b[0;34m=\u001b[0m \u001b[0minput\u001b[0m\u001b[0;34m(\u001b[0m\u001b[0;34m\"is answer correct?\"\u001b[0m\u001b[0;34m)\u001b[0m\u001b[0;34m\u001b[0m\u001b[0;34m\u001b[0m\u001b[0m\n\u001b[0m\u001b[1;32m     23\u001b[0m     \u001b[0;32mif\u001b[0m \u001b[0mint\u001b[0m\u001b[0;34m(\u001b[0m\u001b[0mis_response_correct\u001b[0m\u001b[0;34m)\u001b[0m \u001b[0;34m==\u001b[0m \u001b[0;36m1\u001b[0m\u001b[0;34m:\u001b[0m\u001b[0;34m\u001b[0m\u001b[0;34m\u001b[0m\u001b[0m\n\u001b[1;32m     24\u001b[0m         \u001b[0mscores\u001b[0m\u001b[0;34m[\u001b[0m\u001b[0mselection\u001b[0m\u001b[0;34m]\u001b[0m \u001b[0;34m=\u001b[0m \u001b[0mscores\u001b[0m\u001b[0;34m[\u001b[0m\u001b[0mselection\u001b[0m\u001b[0;34m]\u001b[0m \u001b[0;34m+\u001b[0m \u001b[0;36m1\u001b[0m\u001b[0;34m\u001b[0m\u001b[0;34m\u001b[0m\u001b[0m\n",
      "\u001b[0;32m~/anaconda3/lib/python3.9/site-packages/ipykernel/kernelbase.py\u001b[0m in \u001b[0;36mraw_input\u001b[0;34m(self, prompt)\u001b[0m\n\u001b[1;32m   1004\u001b[0m                 \u001b[0;34m\"raw_input was called, but this frontend does not support input requests.\"\u001b[0m\u001b[0;34m\u001b[0m\u001b[0;34m\u001b[0m\u001b[0m\n\u001b[1;32m   1005\u001b[0m             )\n\u001b[0;32m-> 1006\u001b[0;31m         return self._input_request(\n\u001b[0m\u001b[1;32m   1007\u001b[0m             \u001b[0mstr\u001b[0m\u001b[0;34m(\u001b[0m\u001b[0mprompt\u001b[0m\u001b[0;34m)\u001b[0m\u001b[0;34m,\u001b[0m\u001b[0;34m\u001b[0m\u001b[0;34m\u001b[0m\u001b[0m\n\u001b[1;32m   1008\u001b[0m             \u001b[0mself\u001b[0m\u001b[0;34m.\u001b[0m\u001b[0m_parent_ident\u001b[0m\u001b[0;34m[\u001b[0m\u001b[0;34m\"shell\"\u001b[0m\u001b[0;34m]\u001b[0m\u001b[0;34m,\u001b[0m\u001b[0;34m\u001b[0m\u001b[0;34m\u001b[0m\u001b[0m\n",
      "\u001b[0;32m~/anaconda3/lib/python3.9/site-packages/ipykernel/kernelbase.py\u001b[0m in \u001b[0;36m_input_request\u001b[0;34m(self, prompt, ident, parent, password)\u001b[0m\n\u001b[1;32m   1049\u001b[0m             \u001b[0;32mexcept\u001b[0m \u001b[0mKeyboardInterrupt\u001b[0m\u001b[0;34m:\u001b[0m\u001b[0;34m\u001b[0m\u001b[0;34m\u001b[0m\u001b[0m\n\u001b[1;32m   1050\u001b[0m                 \u001b[0;31m# re-raise KeyboardInterrupt, to truncate traceback\u001b[0m\u001b[0;34m\u001b[0m\u001b[0;34m\u001b[0m\u001b[0m\n\u001b[0;32m-> 1051\u001b[0;31m                 \u001b[0;32mraise\u001b[0m \u001b[0mKeyboardInterrupt\u001b[0m\u001b[0;34m(\u001b[0m\u001b[0;34m\"Interrupted by user\"\u001b[0m\u001b[0;34m)\u001b[0m \u001b[0;32mfrom\u001b[0m \u001b[0;32mNone\u001b[0m\u001b[0;34m\u001b[0m\u001b[0;34m\u001b[0m\u001b[0m\n\u001b[0m\u001b[1;32m   1052\u001b[0m             \u001b[0;32mexcept\u001b[0m \u001b[0mException\u001b[0m\u001b[0;34m:\u001b[0m\u001b[0;34m\u001b[0m\u001b[0;34m\u001b[0m\u001b[0m\n\u001b[1;32m   1053\u001b[0m                 \u001b[0mself\u001b[0m\u001b[0;34m.\u001b[0m\u001b[0mlog\u001b[0m\u001b[0;34m.\u001b[0m\u001b[0mwarning\u001b[0m\u001b[0;34m(\u001b[0m\u001b[0;34m\"Invalid Message:\"\u001b[0m\u001b[0;34m,\u001b[0m \u001b[0mexc_info\u001b[0m\u001b[0;34m=\u001b[0m\u001b[0;32mTrue\u001b[0m\u001b[0;34m)\u001b[0m\u001b[0;34m\u001b[0m\u001b[0;34m\u001b[0m\u001b[0m\n",
      "\u001b[0;31mKeyboardInterrupt\u001b[0m: Interrupted by user"
     ]
    }
   ],
   "source": [
    "for i in range(10):\n",
    "    print (\"Scores are\", scores, \"is_seen\", is_seen)\n",
    "    \n",
    "    if len(is_seen) > MAX_NEW_CARDS:\n",
    "        scores_to_choose_from = dict([(a, b) for a, b in scores.items() if a in is_seen])\n",
    "    else:\n",
    "        scores_to_choose_from = scores\n",
    "    \n",
    "    lowest_scores = [(a,b) for (a,b) in scores_to_choose_from.items() if b == min(scores_to_choose_from.values())]\n",
    "    \n",
    "    \n",
    "    selection, score = random.choice(lowest_scores)\n",
    "    is_seen.add(selection)\n",
    "    \n",
    "    if score == 0:\n",
    "        print (\"Show user\", selection)\n",
    "    else:\n",
    "        print (\"What is\", selection)\n",
    "        \n",
    "    time.sleep(0.5)\n",
    "        \n",
    "    is_response_correct = input(\"is answer correct?\")\n",
    "    if int(is_response_correct) == 1:\n",
    "        scores[selection] = scores[selection] + 1\n",
    "        if scores[selection] == NUM_LEVELS-1:\n",
    "            print (\"Completed\", selection)\n",
    "            is_seen.remove(selection)\n",
    "            \n",
    "        if min(scores.values()) == NUM_LEVELS-1:\n",
    "            print (\"Completed it all!\")\n",
    "            for c in characters:\n",
    "                scores[c] = 0\n",
    "            is_seen.clear()\n",
    "    else:\n",
    "        scores[selection] = 0"
   ]
  },
  {
   "cell_type": "code",
   "execution_count": 44,
   "id": "4c6b8866",
   "metadata": {},
   "outputs": [],
   "source": []
  },
  {
   "cell_type": "code",
   "execution_count": 28,
   "id": "9cddb5c3",
   "metadata": {},
   "outputs": [
    {
     "data": {
      "text/plain": [
       "[('a', 1), ('o', 1), ('ka', 1), ('ke', 1), ('chi', 1), ('ku', 1)]"
      ]
     },
     "execution_count": 28,
     "metadata": {},
     "output_type": "execute_result"
    }
   ],
   "source": [
    "[(a, b) for a, b in scores.items() if a in is_seen]"
   ]
  },
  {
   "cell_type": "code",
   "execution_count": null,
   "id": "b72dfb69",
   "metadata": {},
   "outputs": [],
   "source": []
  }
 ],
 "metadata": {
  "kernelspec": {
   "display_name": "Python 3 (ipykernel)",
   "language": "python",
   "name": "python3"
  },
  "language_info": {
   "codemirror_mode": {
    "name": "ipython",
    "version": 3
   },
   "file_extension": ".py",
   "mimetype": "text/x-python",
   "name": "python",
   "nbconvert_exporter": "python",
   "pygments_lexer": "ipython3",
   "version": "3.9.7"
  }
 },
 "nbformat": 4,
 "nbformat_minor": 5
}
