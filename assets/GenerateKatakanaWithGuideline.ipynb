{
 "cells": [
  {
   "cell_type": "code",
   "execution_count": 288,
   "id": "3ec8a2fc",
   "metadata": {},
   "outputs": [],
   "source": [
    "import svgutils.transform as sg"
   ]
  },
  {
   "cell_type": "code",
   "execution_count": 289,
   "id": "046045c1",
   "metadata": {},
   "outputs": [],
   "source": [
    "fig1 = sg.fromfile(\"Japanese_Katakana_A.svg\")"
   ]
  },
  {
   "cell_type": "code",
   "execution_count": 290,
   "id": "9394845a",
   "metadata": {},
   "outputs": [
    {
     "data": {
      "text/plain": [
       "('500', '500')"
      ]
     },
     "execution_count": 290,
     "metadata": {},
     "output_type": "execute_result"
    }
   ],
   "source": [
    "fig1.height, fig1.width"
   ]
  },
  {
   "cell_type": "code",
   "execution_count": 291,
   "id": "59b5705f",
   "metadata": {},
   "outputs": [],
   "source": [
    "txt1 = sg.TextElement(25,20, \"A\", size=12, weight=\"bold\")"
   ]
  },
  {
   "cell_type": "code",
   "execution_count": 292,
   "id": "16445b6b",
   "metadata": {},
   "outputs": [],
   "source": [
    "fig2 = sg.fromfile(\"character_background.drawio.svg\")"
   ]
  },
  {
   "cell_type": "code",
   "execution_count": 293,
   "id": "52f961f4",
   "metadata": {},
   "outputs": [
    {
     "data": {
      "text/plain": [
       "('236.000000pt', '236.000000pt')"
      ]
     },
     "execution_count": 293,
     "metadata": {},
     "output_type": "execute_result"
    }
   ],
   "source": [
    "fig2.height, fig2.width"
   ]
  },
  {
   "cell_type": "code",
   "execution_count": 294,
   "id": "2a115eff",
   "metadata": {},
   "outputs": [],
   "source": [
    "# fig2.set_size((\"500\",\"500\"))"
   ]
  },
  {
   "cell_type": "code",
   "execution_count": 295,
   "id": "db723485",
   "metadata": {},
   "outputs": [],
   "source": [
    "fig2.set_size((\"132\",\"132\"))"
   ]
  },
  {
   "cell_type": "code",
   "execution_count": 296,
   "id": "7ba92942",
   "metadata": {},
   "outputs": [
    {
     "data": {
      "text/plain": [
       "('132', '132')"
      ]
     },
     "execution_count": 296,
     "metadata": {},
     "output_type": "execute_result"
    }
   ],
   "source": [
    "fig2.height, fig2.width"
   ]
  },
  {
   "cell_type": "code",
   "execution_count": 297,
   "id": "f2c4639a",
   "metadata": {},
   "outputs": [],
   "source": [
    "# fig2.scale_xy((500/236), (500/236))"
   ]
  },
  {
   "cell_type": "code",
   "execution_count": 298,
   "id": "4b0020f8",
   "metadata": {},
   "outputs": [],
   "source": [
    "#fig1.append(txt1)"
   ]
  },
  {
   "cell_type": "code",
   "execution_count": 299,
   "id": "feaf1b49",
   "metadata": {},
   "outputs": [],
   "source": [
    "# fig1.set_size(('510','510'))"
   ]
  },
  {
   "cell_type": "code",
   "execution_count": 300,
   "id": "dd67c26e",
   "metadata": {},
   "outputs": [],
   "source": [
    "fig1.append(fig2)"
   ]
  },
  {
   "cell_type": "code",
   "execution_count": 301,
   "id": "03b7b7fc",
   "metadata": {},
   "outputs": [],
   "source": [
    "fig1.save(\"output.svg\")"
   ]
  },
  {
   "cell_type": "code",
   "execution_count": null,
   "id": "b18b3bd0",
   "metadata": {},
   "outputs": [],
   "source": []
  }
 ],
 "metadata": {
  "kernelspec": {
   "display_name": "Python 3 (ipykernel)",
   "language": "python",
   "name": "python3"
  },
  "language_info": {
   "codemirror_mode": {
    "name": "ipython",
    "version": 3
   },
   "file_extension": ".py",
   "mimetype": "text/x-python",
   "name": "python",
   "nbconvert_exporter": "python",
   "pygments_lexer": "ipython3",
   "version": "3.9.7"
  }
 },
 "nbformat": 4,
 "nbformat_minor": 5
}
