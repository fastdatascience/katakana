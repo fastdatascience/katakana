{
 "cells": [
  {
   "cell_type": "code",
   "execution_count": 171,
   "id": "3ec8a2fc",
   "metadata": {},
   "outputs": [],
   "source": [
    "import svgutils.transform as sg"
   ]
  },
  {
   "cell_type": "code",
   "execution_count": 172,
   "id": "046045c1",
   "metadata": {},
   "outputs": [],
   "source": [
    "fig1 = sg.fromfile(\"assets/output.svg\")"
   ]
  },
  {
   "cell_type": "code",
   "execution_count": 173,
   "id": "c9936925",
   "metadata": {},
   "outputs": [],
   "source": [
    "from cairosvg import svg2png\n"
   ]
  },
  {
   "cell_type": "code",
   "execution_count": 174,
   "id": "6abc63df",
   "metadata": {},
   "outputs": [],
   "source": [
    "svg_code = fig1.to_str()"
   ]
  },
  {
   "cell_type": "code",
   "execution_count": 175,
   "id": "803079e7",
   "metadata": {},
   "outputs": [],
   "source": [
    "svg2png(bytestring=svg_code,write_to='output.png')"
   ]
  },
  {
   "cell_type": "code",
   "execution_count": 191,
   "id": "01c38be1",
   "metadata": {},
   "outputs": [],
   "source": [
    "! convert assets/Japanese_Katakana_A.svg output.png"
   ]
  },
  {
   "cell_type": "code",
   "execution_count": 192,
   "id": "963c7155",
   "metadata": {},
   "outputs": [],
   "source": [
    "import json\n",
    "training_examples = []\n",
    "with open(\"a.txt\", \"r\", encoding=\"utf-8\") as f:\n",
    "    for l in f:\n",
    "        training_examples.append(json.loads(l))"
   ]
  },
  {
   "cell_type": "code",
   "execution_count": 193,
   "id": "ed9e9d5e",
   "metadata": {
    "scrolled": true
   },
   "outputs": [
    {
     "data": {
      "text/plain": [
       "b'<?xml version=\\'1.0\\' encoding=\\'ASCII\\' standalone=\\'yes\\'?>\\n<svg xmlns:dc=\"http://purl.org/dc/elements/1.1/\" xmlns:cc=\"http://creativecommons.org/ns#\" xmlns:rdf=\"http://www.w3.org/1999/02/22-rdf-syntax-ns#\" xmlns:svg=\"http://www.w3.org/2000/svg\" xmlns=\"http://www.w3.org/2000/svg\" xmlns:sodipodi=\"http://sodipodi.sourceforge.net/DTD/sodipodi-0.dtd\" xmlns:inkscape=\"http://www.inkscape.org/namespaces/inkscape\" width=\"500\" height=\"500\" viewBox=\"0 0 132.29167 132.29167\" version=\"1.1\" id=\"svg8\" inkscape:version=\"0.92.4 (5da689c313, 2019-01-14)\" sodipodi:docname=\"Japanese_Katakana_kyokashotai_A.svg\">\\n  <defs id=\"defs2\"/>\\n  <sodipodi:namedview id=\"base\" pagecolor=\"#ffffff\" bordercolor=\"#666666\" borderopacity=\"1.0\" inkscape:pageopacity=\"0.0\" inkscape:pageshadow=\"2\" inkscape:zoom=\"0.7\" inkscape:cx=\"138.92404\" inkscape:cy=\"310.39217\" inkscape:document-units=\"mm\" inkscape:current-layer=\"text20\" showgrid=\"false\" units=\"px\" inkscape:window-width=\"1440\" inkscape:window-height=\"837\" inkscape:window-x=\"-8\" inkscape:window-y=\"-8\" inkscape:window-maximized=\"1\"/>\\n  <metadata id=\"metadata5\">\\n    <rdf:RDF>\\n      <cc:Work rdf:about=\"\">\\n        <dc:format>image/svg+xml</dc:format>\\n        <dc:type rdf:resource=\"http://purl.org/dc/dcmitype/StillImage\"/>\\n        <dc:title/>\\n      </cc:Work>\\n    </rdf:RDF>\\n  </metadata>\\n  <g inkscape:label=\"Layer 1\" inkscape:groupmode=\"layer\" id=\"layer1\" transform=\"translate(0,-164.70835)\">\\n    <g aria-label=\"&#12522;\" style=\"font-style:normal;font-variant:normal;font-weight:normal;font-stretch:normal;font-size:25.39999962px;line-height:1.25;font-family:MHGKyokashotaiTHK;-inkscape-font-specification:MHGKyokashotaiTHK;letter-spacing:0px;word-spacing:0px;fill:#000000;fill-opacity:1;stroke:none;stroke-width:0.26458332\" id=\"text12\">\\n      <g aria-label=\"&#12449;\" style=\"font-style:normal;font-variant:normal;font-weight:normal;font-stretch:normal;font-size:158.75px;line-height:1.25;font-family:MHGKyokashotaiTHK;-inkscape-font-specification:MHGKyokashotaiTHK;letter-spacing:0px;word-spacing:0px;fill:#000000;fill-opacity:1;stroke:none;stroke-width:0.07000434\" id=\"text20\">\\n        <path d=\"m 119.72774,188.68715 -11.64166,-4.86834 c -0.42334,-0.635 -1.905,0 -4.02167,1.69333 l -72.813336,12.27667 c -3.81,0.635 -8.255,0 -13.123334,-1.69333 -2.328333,-1.05833 -2.751666,-0.21167 -1.693333,2.54 0.423333,0.635 1.905,1.69333 4.021667,3.38667 1.693333,1.69333 4.445,3.175 8.255,4.86833 4.021667,-1.69333 8.255,-2.96333 13.335,-4.02167 l 61.171666,-12.48833 c 1.69334,0.635 2.11667,1.69333 1.69334,3.38667 -5.503338,5.92666 -9.948338,10.58333 -13.335005,13.97 -4.868333,4.86833 -10.16,9.73666 -15.663333,13.97 -3.386667,-3.81 -6.561667,-6.13834 -9.948334,-7.40834 -2.751667,-0.84666 -3.598333,-0.42333 -2.54,1.69334 2.328334,1.69333 3.386667,4.445 3.386667,8.255 0,2.32833 -1.905,9.73666 -6.561667,22.43666 -4.656667,12.27667 -11.641667,23.07167 -19.896667,33.02 -1.058333,2.11667 -0.635,2.75167 1.693333,1.69334 14.393334,-13.335 25.823334,-32.385 34.713334,-57.15 16.510001,-10.37167 30.056672,-20.955 40.428332,-31.32667 3.38667,-1.05833 4.23334,-2.54 2.54,-4.23333 z\" style=\"font-size:211.66667175px;stroke-width:0.07000434\" id=\"path26\"/>\\n      </g>\\n    </g>\\n  </g>\\n<svg:svg version=\"1.0\" width=\"132\" height=\"132\" viewBox=\"0 0 236.000000 236.000000\" preserveAspectRatio=\"xMidYMid meet\">\\n\\n<svg:g transform=\"translate(0.000000,236.000000) scale(0.100000,-0.100000)\" fill=\"#000000\" stroke=\"none\">\\n<svg:path d=\"M0 1185 l0 -1175 1175 0 1175 0 0 1175 0 1175 -1175 0 -1175 0 0 -1175z m1150 595 c0 -291 -1 -530 -3 -530 -1 0 -241 239 -532 530 l-530 530 533 0 532 0 0 -530z m1110 527 c0 -1 -238 -241 -530 -532 l-530 -530 0 533 0 532 530 0 c292 0 530 -1 530 -3z m-1675 -567 l530 -530 -533 0 -532 0 0 530 c0 292 1 530 3 530 1 0 241 -238 532 -530z m1715 0 l0 -530 -532 0 -533 0 530 530 c291 292 531 530 532 530 2 0 3 -238 3 -530z m-1190 -583 c0 -1 -239 -241 -530 -532 l-530 -530 0 533 0 532 530 0 c292 0 530 -1 530 -3z m1190 -527 c0 -292 -1 -530 -3 -530 -1 0 -241 239 -532 530 l-530 530 533 0 532 0 0 -530z m-1150 -40 l0 -530 -532 0 -533 0 530 530 c291 292 531 530 532 530 2 0 3 -238 3 -530z m585 0 l530 -530 -533 0 -532 0 0 530 c0 292 1 530 3 530 1 0 241 -238 532 -530z\" fill-opacity=\"0.4\"/>\\n</svg:g>\\n</svg:svg></svg>\\n'"
      ]
     },
     "execution_count": 193,
     "metadata": {},
     "output_type": "execute_result"
    }
   ],
   "source": [
    "svg_code"
   ]
  },
  {
   "cell_type": "code",
   "execution_count": 194,
   "id": "15856ba2",
   "metadata": {},
   "outputs": [],
   "source": [
    "import cv2"
   ]
  },
  {
   "cell_type": "code",
   "execution_count": 195,
   "id": "2d520ebf",
   "metadata": {},
   "outputs": [],
   "source": [
    "image = cv2.imread(\"output.png\")"
   ]
  },
  {
   "cell_type": "code",
   "execution_count": null,
   "id": "abe21108",
   "metadata": {},
   "outputs": [],
   "source": []
  },
  {
   "cell_type": "code",
   "execution_count": 196,
   "id": "01bcdbfc",
   "metadata": {},
   "outputs": [],
   "source": [
    "objects = training_examples[0]['objects']\n",
    "paths = [o for o in objects if o['type'] == 'path']"
   ]
  },
  {
   "cell_type": "code",
   "execution_count": 197,
   "id": "5b8fee68",
   "metadata": {},
   "outputs": [
    {
     "data": {
      "text/plain": [
       "[{'type': 'path',\n",
       "  'originX': 'left',\n",
       "  'originY': 'top',\n",
       "  'left': 90.99000000000001,\n",
       "  'top': 82.64999771118164,\n",
       "  'width': 325.84,\n",
       "  'height': 136.01,\n",
       "  'fill': None,\n",
       "  'stroke': 'red',\n",
       "  'strokeWidth': 10,\n",
       "  'strokeDashArray': None,\n",
       "  'strokeLineCap': 'round',\n",
       "  'strokeLineJoin': 'round',\n",
       "  'strokeMiterLimit': 10,\n",
       "  'scaleX': 1,\n",
       "  'scaleY': 1,\n",
       "  'angle': 0,\n",
       "  'flipX': False,\n",
       "  'flipY': False,\n",
       "  'opacity': 1,\n",
       "  'shadow': None,\n",
       "  'visible': True,\n",
       "  'clipTo': None,\n",
       "  'backgroundColor': '',\n",
       "  'fillRule': 'nonzero',\n",
       "  'globalCompositeOperation': 'source-over',\n",
       "  'transformMatrix': None,\n",
       "  'skewX': 0,\n",
       "  'skewY': 0,\n",
       "  'pathOffset': {'x': 258.9092135623731, 'y': 155.65499771118164},\n",
       "  'path': [['M', 95.99, 136.63999771118165],\n",
       "   ['Q', 96, 136.64999771118164, 97.5, 137.14999771118164],\n",
       "   ['Q', 99, 137.64999771118164, 99.5, 137.64999771118164],\n",
       "   ['Q', 100, 137.64999771118164, 107, 137.14999771118164],\n",
       "   ['Q', 114, 136.64999771118164, 125, 134.14999771118164],\n",
       "   ['Q', 136, 131.64999771118164, 153.5, 129.64999771118164],\n",
       "   ['Q', 171, 127.64999771118164, 196.5, 123.64999771118164],\n",
       "   ['Q', 222, 119.64999771118164, 234.5, 117.64999771118164],\n",
       "   ['Q', 247, 115.64999771118164, 252, 115.14999771118164],\n",
       "   ['Q', 257, 114.64999771118164, 262.5, 113.64999771118164],\n",
       "   ['Q', 268, 112.64999771118164, 278.5, 111.14999771118164],\n",
       "   ['Q', 289, 109.64999771118164, 297, 108.14999771118164],\n",
       "   ['Q', 305, 106.64999771118164, 312.5, 105.14999771118164],\n",
       "   ['Q', 320, 103.64999771118164, 325.5, 103.64999771118164],\n",
       "   ['Q', 331, 103.64999771118164, 336, 102.64999771118164],\n",
       "   ['Q', 341, 101.64999771118164, 344.5, 101.14999771118164],\n",
       "   ['Q', 348, 100.64999771118164, 352.5, 99.14999771118164],\n",
       "   ['Q', 357, 97.64999771118164, 360.5, 96.64999771118164],\n",
       "   ['Q', 364, 95.64999771118164, 373, 94.14999771118164],\n",
       "   ['Q', 382, 92.64999771118164, 385.5, 92.14999771118164],\n",
       "   ['Q', 389, 91.64999771118164, 391, 91.64999771118164],\n",
       "   ['Q', 393, 91.64999771118164, 395.5, 91.64999771118164],\n",
       "   ['Q', 398, 91.64999771118164, 399, 91.64999771118164],\n",
       "   ['Q', 400, 91.64999771118164, 402.5, 91.64999771118164],\n",
       "   ['Q', 405, 91.64999771118164, 406.5, 90.64999771118164],\n",
       "   ['Q', 408, 89.64999771118164, 410, 89.14999771118164],\n",
       "   ['Q', 412, 88.64999771118164, 413, 88.64999771118164],\n",
       "   ['Q', 414, 88.64999771118164, 414.5, 88.64999771118164],\n",
       "   ['Q', 415, 88.64999771118164, 416, 88.14999771118164],\n",
       "   ['Q', 417, 87.64999771118164, 418.5, 87.64999771118164],\n",
       "   ['Q', 420, 87.64999771118164, 420.5, 87.64999771118164],\n",
       "   ['Q', 421, 87.64999771118164, 421.5, 88.14999771118164],\n",
       "   ['Q', 422, 88.64999771118164, 421, 91.64999771118164],\n",
       "   ['Q', 420, 94.64999771118164, 418, 97.64999771118164],\n",
       "   ['Q', 416, 100.64999771118164, 406.5, 111.14999771118164],\n",
       "   ['Q', 397, 121.64999771118164, 392.5, 127.14999771118164],\n",
       "   ['Q', 388, 132.64999771118164, 384, 136.64999771118164],\n",
       "   ['Q', 380, 140.64999771118164, 374.5, 144.64999771118164],\n",
       "   ['Q', 369, 148.64999771118164, 365, 152.14999771118164],\n",
       "   ['Q', 361, 155.64999771118164, 358.5, 158.14999771118164],\n",
       "   ['Q', 356, 160.64999771118164, 353.5, 164.14999771118164],\n",
       "   ['Q', 351, 167.64999771118164, 347.5, 169.64999771118164],\n",
       "   ['Q', 344, 171.64999771118164, 342, 173.64999771118164],\n",
       "   ['Q', 340, 175.64999771118164, 336, 178.14999771118164],\n",
       "   ['Q', 332, 180.64999771118164, 330, 182.64999771118164],\n",
       "   ['Q', 328, 184.64999771118164, 324.5, 186.64999771118164],\n",
       "   ['Q', 321, 188.64999771118164, 317.5, 192.14999771118164],\n",
       "   ['Q', 314, 195.64999771118164, 310, 197.14999771118164],\n",
       "   ['Q', 306, 198.64999771118164, 302, 200.14999771118164],\n",
       "   ['Q', 298, 201.64999771118164, 295, 203.14999771118164],\n",
       "   ['Q', 292, 204.64999771118164, 290, 206.14999771118164],\n",
       "   ['Q', 288, 207.64999771118164, 285.5, 208.64999771118164],\n",
       "   ['Q', 283, 209.64999771118164, 281.5, 210.64999771118164],\n",
       "   ['Q', 280, 211.64999771118164, 279.5, 212.14999771118164],\n",
       "   ['Q', 279, 212.64999771118164, 278.5, 213.14999771118164],\n",
       "   ['Q', 278, 213.64999771118164, 277, 214.14999771118164],\n",
       "   ['Q', 276, 214.64999771118164, 275.5, 215.14999771118164],\n",
       "   ['Q', 275, 215.64999771118164, 272.5, 217.64999771118164],\n",
       "   ['Q', 270, 219.64999771118164, 268.5, 220.14999771118164],\n",
       "   ['Q', 267, 220.64999771118164, 265.5, 221.64999771118164],\n",
       "   ['Q', 264, 222.64999771118164, 263.5, 223.14999771118164],\n",
       "   ['L', 262.99, 223.65999771118163]]},\n",
       " {'type': 'path',\n",
       "  'originX': 'left',\n",
       "  'originY': 'top',\n",
       "  'left': 152.99,\n",
       "  'top': 210.63999771118165,\n",
       "  'width': 110.01,\n",
       "  'height': 224.02,\n",
       "  'fill': None,\n",
       "  'stroke': 'red',\n",
       "  'strokeWidth': 10,\n",
       "  'strokeDashArray': None,\n",
       "  'strokeLineCap': 'round',\n",
       "  'strokeLineJoin': 'round',\n",
       "  'strokeMiterLimit': 10,\n",
       "  'scaleX': 1,\n",
       "  'scaleY': 1,\n",
       "  'angle': 0,\n",
       "  'flipX': False,\n",
       "  'flipY': False,\n",
       "  'opacity': 1,\n",
       "  'shadow': None,\n",
       "  'visible': True,\n",
       "  'clipTo': None,\n",
       "  'backgroundColor': '',\n",
       "  'fillRule': 'nonzero',\n",
       "  'globalCompositeOperation': 'source-over',\n",
       "  'transformMatrix': None,\n",
       "  'skewX': 0,\n",
       "  'skewY': 0,\n",
       "  'pathOffset': {'x': 212.995, 'y': 327.64999771118164},\n",
       "  'path': [['M', 268, 215.63999771118165],\n",
       "   ['Q', 268, 215.64999771118164, 268, 219.64999771118164],\n",
       "   ['Q', 268, 223.64999771118164, 268, 226.14999771118164],\n",
       "   ['Q', 268, 228.64999771118164, 268, 233.14999771118164],\n",
       "   ['Q', 268, 237.64999771118164, 267.5, 240.14999771118164],\n",
       "   ['Q', 267, 242.64999771118164, 266, 245.14999771118164],\n",
       "   ['Q', 265, 247.64999771118164, 264, 251.64999771118164],\n",
       "   ['Q', 263, 255.64999771118164, 262.5, 258.64999771118164],\n",
       "   ['Q', 262, 261.64999771118164, 260.5, 264.64999771118164],\n",
       "   ['Q', 259, 267.64999771118164, 258.5, 269.64999771118164],\n",
       "   ['Q', 258, 271.64999771118164, 257, 274.14999771118164],\n",
       "   ['Q', 256, 276.64999771118164, 255, 279.64999771118164],\n",
       "   ['Q', 254, 282.64999771118164, 251.5, 285.14999771118164],\n",
       "   ['Q', 249, 287.64999771118164, 248.5, 290.14999771118164],\n",
       "   ['Q', 248, 292.64999771118164, 246.5, 294.64999771118164],\n",
       "   ['Q', 245, 296.64999771118164, 243.5, 299.64999771118164],\n",
       "   ['Q', 242, 302.64999771118164, 240.5, 306.14999771118164],\n",
       "   ['Q', 239, 309.64999771118164, 237.5, 310.64999771118164],\n",
       "   ['Q', 236, 311.64999771118164, 234.5, 313.64999771118164],\n",
       "   ['Q', 233, 315.64999771118164, 232, 317.64999771118164],\n",
       "   ['Q', 231, 319.64999771118164, 229.5, 321.64999771118164],\n",
       "   ['Q', 228, 323.64999771118164, 226.5, 326.14999771118164],\n",
       "   ['Q', 225, 328.64999771118164, 224.5, 330.14999771118164],\n",
       "   ['Q', 224, 331.64999771118164, 223.5, 333.14999771118164],\n",
       "   ['Q', 223, 334.64999771118164, 223, 336.14999771118164],\n",
       "   ['Q', 223, 337.64999771118164, 221, 339.64999771118164],\n",
       "   ['Q', 219, 341.64999771118164, 218.5, 342.64999771118164],\n",
       "   ['Q', 218, 343.64999771118164, 217, 345.64999771118164],\n",
       "   ['Q', 216, 347.64999771118164, 214.5, 349.64999771118164],\n",
       "   ['Q', 213, 351.64999771118164, 212.5, 353.14999771118164],\n",
       "   ['Q', 212, 354.64999771118164, 211.5, 356.64999771118164],\n",
       "   ['Q', 211, 358.64999771118164, 210.5, 359.14999771118164],\n",
       "   ['Q', 210, 359.64999771118164, 209, 361.64999771118164],\n",
       "   ['Q', 208, 363.64999771118164, 207, 365.64999771118164],\n",
       "   ['Q', 206, 367.64999771118164, 204.5, 369.64999771118164],\n",
       "   ['Q', 203, 371.64999771118164, 201.5, 373.64999771118164],\n",
       "   ['Q', 200, 375.64999771118164, 198, 377.64999771118164],\n",
       "   ['Q', 196, 379.64999771118164, 194.5, 381.64999771118164],\n",
       "   ['Q', 193, 383.64999771118164, 192.5, 385.14999771118164],\n",
       "   ['Q', 192, 386.64999771118164, 191, 387.14999771118164],\n",
       "   ['Q', 190, 387.64999771118164, 189, 389.64999771118164],\n",
       "   ['Q', 188, 391.64999771118164, 187.5, 393.14999771118164],\n",
       "   ['Q', 187, 394.64999771118164, 185.5, 397.14999771118164],\n",
       "   ['Q', 184, 399.64999771118164, 181.5, 402.14999771118164],\n",
       "   ['Q', 179, 404.64999771118164, 177.5, 406.64999771118164],\n",
       "   ['Q', 176, 408.64999771118164, 174, 411.14999771118164],\n",
       "   ['Q', 172, 413.64999771118164, 171.5, 414.64999771118164],\n",
       "   ['Q', 171, 415.64999771118164, 170.5, 415.64999771118164],\n",
       "   ['Q', 170, 415.64999771118164, 169.5, 415.64999771118164],\n",
       "   ['Q', 169, 415.64999771118164, 168.5, 416.14999771118164],\n",
       "   ['Q', 168, 416.64999771118164, 168, 417.14999771118164],\n",
       "   ['Q', 168, 417.64999771118164, 167.5, 418.14999771118164],\n",
       "   ['Q', 167, 418.64999771118164, 167, 419.14999771118164],\n",
       "   ['Q', 167, 419.64999771118164, 167.5, 420.64999771118164],\n",
       "   ['Q', 168, 421.64999771118164, 168.5, 423.14999771118164],\n",
       "   ['Q', 169, 424.64999771118164, 169, 425.14999771118164],\n",
       "   ['Q', 169, 425.64999771118164, 169, 426.64999771118164],\n",
       "   ['Q', 169, 427.64999771118164, 169, 428.14999771118164],\n",
       "   ['Q', 169, 428.64999771118164, 169, 429.64999771118164],\n",
       "   ['Q', 169, 430.64999771118164, 169, 431.14999771118164],\n",
       "   ['Q', 169, 431.64999771118164, 168.5, 431.64999771118164],\n",
       "   ['Q', 168, 431.64999771118164, 167.5, 432.14999771118164],\n",
       "   ['Q', 167, 432.64999771118164, 167, 433.64999771118164],\n",
       "   ['Q', 167, 434.64999771118164, 167, 435.14999771118164],\n",
       "   ['Q', 167, 435.64999771118164, 166.5, 436.14999771118164],\n",
       "   ['Q', 166, 436.64999771118164, 165.5, 436.64999771118164],\n",
       "   ['Q', 165, 436.64999771118164, 164.5, 436.64999771118164],\n",
       "   ['Q', 164, 436.64999771118164, 163.5, 437.14999771118164],\n",
       "   ['Q', 163, 437.64999771118164, 162, 437.64999771118164],\n",
       "   ['Q', 161, 437.64999771118164, 160.5, 437.64999771118164],\n",
       "   ['Q', 160, 437.64999771118164, 159.5, 438.14999771118164],\n",
       "   ['Q', 159, 438.64999771118164, 158.5, 439.14999771118164],\n",
       "   ['L', 157.99, 439.65999771118163]]}]"
      ]
     },
     "execution_count": 197,
     "metadata": {},
     "output_type": "execute_result"
    }
   ],
   "source": [
    "paths"
   ]
  },
  {
   "cell_type": "code",
   "execution_count": 198,
   "id": "f6ca8496",
   "metadata": {},
   "outputs": [],
   "source": [
    "from matplotlib import pyplot as plt\n"
   ]
  },
  {
   "cell_type": "code",
   "execution_count": 199,
   "id": "2d457f3c",
   "metadata": {},
   "outputs": [],
   "source": [
    "frame_no = 999\n",
    "radius = 40\n",
    "\n",
    "\n",
    "for p in range(len(paths)-1, -1, -1): # iterate over strokes\n",
    "    path = paths[p]\n",
    "    points = path['path']\n",
    "\n",
    "    ctr = 0\n",
    "\n",
    "    for i in range(len(points)-1, 0, -1):\n",
    "        oldx = points[i-1][1]\n",
    "        oldy = points[i-1][2]\n",
    "        newx = points[i][1]\n",
    "        newy = points[i][2]\n",
    "\n",
    "\n",
    "\n",
    "        for r in np.arange(0, 1.01, 0.2):\n",
    "            x_cen = oldx*(1-r) + newx*r\n",
    "            y_cen = oldy*(1-r) + newy*r        \n",
    "\n",
    "            for xx in range(-radius,radius):\n",
    "                for yy in range(-radius, radius):\n",
    "                    if xx*xx + yy*yy <= radius*radius:\n",
    "                        x = int(np.round(x_cen + xx))\n",
    "                        y = int(np.round(y_cen + yy))\n",
    "\n",
    "                        if x < 0 or y < 0 or x > 499 or y > 499:\n",
    "                            continue\n",
    "\n",
    "                        if True or image[y][x][0] == 0:\n",
    "                            image[y][x] = [255,255,255]\n",
    "\n",
    "        cv2.imwrite(f\"frame{frame_no:04d}.png\", image)\n",
    "\n",
    "        frame_no -= 1"
   ]
  },
  {
   "cell_type": "code",
   "execution_count": 200,
   "id": "9a47f6d5",
   "metadata": {},
   "outputs": [],
   "source": [
    "! convert frame*png a.gif"
   ]
  },
  {
   "cell_type": "code",
   "execution_count": 150,
   "id": "c564b4fa",
   "metadata": {},
   "outputs": [
    {
     "data": {
      "image/png": "[encoded data removed]",
      "text/plain": [
       "<Figure size 432x288 with 1 Axes>"
      ]
     },
     "metadata": {
      "needs_background": "light"
     },
     "output_type": "display_data"
    }
   ],
   "source": [
    "plt.imshow(image)\n",
    "plt.show()"
   ]
  },
  {
   "cell_type": "code",
   "execution_count": 69,
   "id": "41a44b10",
   "metadata": {},
   "outputs": [
    {
     "data": {
      "text/plain": [
       "array([[[255, 255, 255],\n",
       "        [255, 255, 255],\n",
       "        [255, 255, 255],\n",
       "        ...,\n",
       "        [255, 255, 255],\n",
       "        [255, 255, 255],\n",
       "        [255, 255, 255]],\n",
       "\n",
       "       [[255, 255, 255],\n",
       "        [255, 255, 255],\n",
       "        [255, 255, 255],\n",
       "        ...,\n",
       "        [255, 255, 255],\n",
       "        [255, 255, 255],\n",
       "        [255, 255, 255]],\n",
       "\n",
       "       [[255, 255, 255],\n",
       "        [255, 255, 255],\n",
       "        [255, 255, 255],\n",
       "        ...,\n",
       "        [255, 255, 255],\n",
       "        [255, 255, 255],\n",
       "        [255, 255, 255]],\n",
       "\n",
       "       ...,\n",
       "\n",
       "       [[255, 255, 255],\n",
       "        [255, 255, 255],\n",
       "        [255, 255, 255],\n",
       "        ...,\n",
       "        [255, 255, 255],\n",
       "        [255, 255, 255],\n",
       "        [255, 255, 255]],\n",
       "\n",
       "       [[255, 255, 255],\n",
       "        [255, 255, 255],\n",
       "        [255, 255, 255],\n",
       "        ...,\n",
       "        [255, 255, 255],\n",
       "        [255, 255, 255],\n",
       "        [255, 255, 255]],\n",
       "\n",
       "       [[255, 255, 255],\n",
       "        [255, 255, 255],\n",
       "        [255, 255, 255],\n",
       "        ...,\n",
       "        [255, 255, 255],\n",
       "        [255, 255, 255],\n",
       "        [255, 255, 255]]], dtype=uint8)"
      ]
     },
     "execution_count": 69,
     "metadata": {},
     "output_type": "execute_result"
    }
   ],
   "source": [
    "image"
   ]
  },
  {
   "cell_type": "code",
   "execution_count": null,
   "id": "1d00c568",
   "metadata": {},
   "outputs": [],
   "source": []
  },
  {
   "cell_type": "code",
   "execution_count": null,
   "id": "d8e34596",
   "metadata": {},
   "outputs": [],
   "source": []
  }
 ],
 "metadata": {
  "kernelspec": {
   "display_name": "Python 3 (ipykernel)",
   "language": "python",
   "name": "python3"
  },
  "language_info": {
   "codemirror_mode": {
    "name": "ipython",
    "version": 3
   },
   "file_extension": ".py",
   "mimetype": "text/x-python",
   "name": "python",
   "nbconvert_exporter": "python",
   "pygments_lexer": "ipython3",
   "version": "3.9.7"
  }
 },
 "nbformat": 4,
 "nbformat_minor": 5
}
