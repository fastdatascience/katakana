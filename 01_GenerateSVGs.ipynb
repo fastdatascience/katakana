{
 "cells": [
  {
   "cell_type": "code",
   "execution_count": 76,
   "id": "eec2892e",
   "metadata": {},
   "outputs": [],
   "source": [
    "text = \"\"\"あ ア a\tい イ i\tう ウ u\tえ エ e\tお オ o\n",
    "か カ ka\tき キ ki\tく ク ku\tけ ケ ke\tこ コ ko\n",
    "さ サ sa\tし シ shi\tす ス su\tせ セ se\tそ ソ so\n",
    "た タ ta\tち チ chi\tつ ツ tsu\tて テ te\tと ト to\n",
    "な ナ na\tに ニ ni\tぬ ヌ nu\tね ネ ne\tの ノ no\n",
    "は ハ ha\tひ ヒ hi\tふ フ fu\tへ ヘ he\tほ ホ ho\n",
    "ま マ ma\tみ ミ mi\tむ ム mu\tめ メ me\tも モ mo\n",
    "や ヤ ya\tゆ ユ yu\tよ ヨ yo\n",
    "ら ラ ra\tり リ ri\tる ル ru\tれ レ re\tろ ロ ro\n",
    "わ ワ wa\n",
    "ん ン n\"\"\""
   ]
  },
  {
   "cell_type": "code",
   "execution_count": 77,
   "id": "b11b53a7",
   "metadata": {},
   "outputs": [],
   "source": [
    "import svgutils.transform as sg"
   ]
  },
  {
   "cell_type": "code",
   "execution_count": 78,
   "id": "f60c53b6",
   "metadata": {},
   "outputs": [],
   "source": [
    "for row in text.split(\"\\n\"):\n",
    "    for char in row.split(\"\\t\"):\n",
    "        hira, kata, roma = char.split(\" \")\n",
    "        \n",
    "        fig2 = sg.fromfile(\"assets/character_background.drawio.svg\")\n",
    "        fig2.set_size((\"500\",\"500\"))\n",
    "        txt1 = sg.TextElement(13,196, kata, size=210, weight=\"normal\")\n",
    "        \n",
    "        fig2.append([txt1])\n",
    "        # save generated SVG files\n",
    "        fig2.save(f\"assets/katakana_{roma}.svg\")"
   ]
  },
  {
   "cell_type": "markdown",
   "id": "ae432730",
   "metadata": {},
   "source": [
    "# Then manually save each svg as png (as imagemagick can't convert)"
   ]
  },
  {
   "cell_type": "code",
   "execution_count": 85,
   "id": "e3bafaac",
   "metadata": {},
   "outputs": [
    {
     "name": "stdout",
     "output_type": "stream",
     "text": [
      "convert katakana_a.png -background white -flatten katakana_a_white.png\n",
      "convert katakana_i.png -background white -flatten katakana_i_white.png\n",
      "convert katakana_u.png -background white -flatten katakana_u_white.png\n",
      "convert katakana_e.png -background white -flatten katakana_e_white.png\n",
      "convert katakana_o.png -background white -flatten katakana_o_white.png\n",
      "convert katakana_ka.png -background white -flatten katakana_ka_white.png\n",
      "convert katakana_ki.png -background white -flatten katakana_ki_white.png\n",
      "convert katakana_ku.png -background white -flatten katakana_ku_white.png\n",
      "convert katakana_ke.png -background white -flatten katakana_ke_white.png\n",
      "convert katakana_ko.png -background white -flatten katakana_ko_white.png\n",
      "convert katakana_sa.png -background white -flatten katakana_sa_white.png\n",
      "convert katakana_shi.png -background white -flatten katakana_shi_white.png\n",
      "convert katakana_su.png -background white -flatten katakana_su_white.png\n",
      "convert katakana_se.png -background white -flatten katakana_se_white.png\n",
      "convert katakana_so.png -background white -flatten katakana_so_white.png\n",
      "convert katakana_ta.png -background white -flatten katakana_ta_white.png\n",
      "convert katakana_chi.png -background white -flatten katakana_chi_white.png\n",
      "convert katakana_tsu.png -background white -flatten katakana_tsu_white.png\n",
      "convert katakana_te.png -background white -flatten katakana_te_white.png\n",
      "convert katakana_to.png -background white -flatten katakana_to_white.png\n",
      "convert katakana_na.png -background white -flatten katakana_na_white.png\n",
      "convert katakana_ni.png -background white -flatten katakana_ni_white.png\n",
      "convert katakana_nu.png -background white -flatten katakana_nu_white.png\n",
      "convert katakana_ne.png -background white -flatten katakana_ne_white.png\n",
      "convert katakana_no.png -background white -flatten katakana_no_white.png\n",
      "convert katakana_ha.png -background white -flatten katakana_ha_white.png\n",
      "convert katakana_hi.png -background white -flatten katakana_hi_white.png\n",
      "convert katakana_fu.png -background white -flatten katakana_fu_white.png\n",
      "convert katakana_he.png -background white -flatten katakana_he_white.png\n",
      "convert katakana_ho.png -background white -flatten katakana_ho_white.png\n",
      "convert katakana_ma.png -background white -flatten katakana_ma_white.png\n",
      "convert katakana_mi.png -background white -flatten katakana_mi_white.png\n",
      "convert katakana_mu.png -background white -flatten katakana_mu_white.png\n",
      "convert katakana_me.png -background white -flatten katakana_me_white.png\n",
      "convert katakana_mo.png -background white -flatten katakana_mo_white.png\n",
      "convert katakana_ya.png -background white -flatten katakana_ya_white.png\n",
      "convert katakana_yu.png -background white -flatten katakana_yu_white.png\n",
      "convert katakana_yo.png -background white -flatten katakana_yo_white.png\n",
      "convert katakana_ra.png -background white -flatten katakana_ra_white.png\n",
      "convert katakana_ri.png -background white -flatten katakana_ri_white.png\n",
      "convert katakana_ru.png -background white -flatten katakana_ru_white.png\n",
      "convert katakana_re.png -background white -flatten katakana_re_white.png\n",
      "convert katakana_ro.png -background white -flatten katakana_ro_white.png\n",
      "convert katakana_wa.png -background white -flatten katakana_wa_white.png\n",
      "convert katakana_n.png -background white -flatten katakana_n_white.png\n"
     ]
    }
   ],
   "source": [
    "for row in text.split(\"\\n\"):\n",
    "    for char in row.split(\"\\t\"):\n",
    "        hira, kata, roma = char.split(\" \")\n",
    "        \n",
    "        print (f\"convert katakana_{roma}.png -background white -flatten katakana_{roma}_white.png\")"
   ]
  },
  {
   "cell_type": "code",
   "execution_count": 75,
   "id": "1847ca75",
   "metadata": {},
   "outputs": [],
   "source": []
  },
  {
   "cell_type": "code",
   "execution_count": null,
   "id": "b79b4740",
   "metadata": {},
   "outputs": [],
   "source": []
  },
  {
   "cell_type": "code",
   "execution_count": null,
   "id": "535235e7",
   "metadata": {},
   "outputs": [],
   "source": []
  }
 ],
 "metadata": {
  "kernelspec": {
   "display_name": "Python 3 (ipykernel)",
   "language": "python",
   "name": "python3"
  },
  "language_info": {
   "codemirror_mode": {
    "name": "ipython",
    "version": 3
   },
   "file_extension": ".py",
   "mimetype": "text/x-python",
   "name": "python",
   "nbconvert_exporter": "python",
   "pygments_lexer": "ipython3",
   "version": "3.9.7"
  }
 },
 "nbformat": 4,
 "nbformat_minor": 5
}
