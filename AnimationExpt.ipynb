{
 "cells": [
  {
   "cell_type": "code",
   "execution_count": 156,
   "id": "76840136",
   "metadata": {},
   "outputs": [],
   "source": [
    "# ! convert assets/katakana_a.svg output.png"
   ]
  },
  {
   "cell_type": "code",
   "execution_count": 160,
   "id": "fa5a9ee7",
   "metadata": {},
   "outputs": [],
   "source": [
    "import cv2\n",
    "import matplotlib.pyplot as plt"
   ]
  },
  {
   "cell_type": "code",
   "execution_count": 161,
   "id": "cf64d22b",
   "metadata": {},
   "outputs": [],
   "source": [
    "image = cv2.imread(\"assets/katakana_a_white.png\" )"
   ]
  },
  {
   "cell_type": "code",
   "execution_count": 159,
   "id": "9776cbe2",
   "metadata": {},
   "outputs": [
    {
     "data": {
      "text/plain": [
       "(500, 500, 3)"
      ]
     },
     "execution_count": 159,
     "metadata": {},
     "output_type": "execute_result"
    }
   ],
   "source": [
    "image.shape"
   ]
  },
  {
   "cell_type": "code",
   "execution_count": 155,
   "id": "f9758a1b",
   "metadata": {},
   "outputs": [
    {
     "data": {
      "text/plain": [
       "<matplotlib.image.AxesImage at 0x7f0ba4542c70>"
      ]
     },
     "execution_count": 155,
     "metadata": {},
     "output_type": "execute_result"
    },
    {
     "data": {
      "image/png": "[encoded data removed]",
      "text/plain": [
       "<Figure size 432x288 with 1 Axes>"
      ]
     },
     "metadata": {
      "needs_background": "light"
     },
     "output_type": "display_data"
    }
   ],
   "source": [
    "plt.imshow(image)"
   ]
  },
  {
   "cell_type": "code",
   "execution_count": 135,
   "id": "5dcb5fcf",
   "metadata": {},
   "outputs": [],
   "source": [
    "new_img = np.zeros(image.shape)"
   ]
  },
  {
   "cell_type": "code",
   "execution_count": 136,
   "id": "932b242c",
   "metadata": {},
   "outputs": [],
   "source": [
    "threshold = 30"
   ]
  },
  {
   "cell_type": "code",
   "execution_count": 147,
   "id": "bf07d18d",
   "metadata": {},
   "outputs": [],
   "source": [
    "for i in range(10):\n",
    "    for x in range(1,499):\n",
    "        for y in range(1,499):\n",
    "            if image[x][y][0] < threshold and (image[x][y-1][0] >threshold or \n",
    "                                        image[x][y+1][0] >threshold or\n",
    "                                        image[x-1][y][0] >threshold or\n",
    "                                        image[x+1][y][0] >threshold):\n",
    "                # make sure not isolated\n",
    "                if (image[x][y-1][0] <threshold or \n",
    "                                        image[x][y+1][0] <threshold or\n",
    "                                        image[x-1][y][0] <threshold or\n",
    "                                        image[x+1][y][0] <threshold):\n",
    "                    new_img[x][y] = [255,255,255]\n",
    "\n",
    "    for x in range(1,499):\n",
    "        for y in range(1,499):\n",
    "            if new_img[x][y][0] == 255:\n",
    "                image[x][y] = [255,255,255]"
   ]
  },
  {
   "cell_type": "code",
   "execution_count": 144,
   "id": "1f7d6b05",
   "metadata": {},
   "outputs": [],
   "source": []
  },
  {
   "cell_type": "code",
   "execution_count": 138,
   "id": "78798f73",
   "metadata": {},
   "outputs": [],
   "source": [
    "import numpy as np"
   ]
  },
  {
   "cell_type": "code",
   "execution_count": 139,
   "id": "bb46827b",
   "metadata": {},
   "outputs": [
    {
     "data": {
      "text/plain": [
       "0"
      ]
     },
     "execution_count": 139,
     "metadata": {},
     "output_type": "execute_result"
    }
   ],
   "source": [
    "np.min(image)"
   ]
  },
  {
   "cell_type": "code",
   "execution_count": null,
   "id": "4eb54de9",
   "metadata": {},
   "outputs": [],
   "source": []
  },
  {
   "cell_type": "code",
   "execution_count": 140,
   "id": "c00d66e9",
   "metadata": {},
   "outputs": [
    {
     "name": "stderr",
     "output_type": "stream",
     "text": [
      "Clipping input data to the valid range for imshow with RGB data ([0..1] for floats or [0..255] for integers).\n"
     ]
    },
    {
     "data": {
      "text/plain": [
       "<matplotlib.image.AxesImage at 0x7f0ba4d72cd0>"
      ]
     },
     "execution_count": 140,
     "metadata": {},
     "output_type": "execute_result"
    },
    {
     "data": {
      "image/png": "[encoded data removed]",
      "text/plain": [
       "<Figure size 432x288 with 1 Axes>"
      ]
     },
     "metadata": {
      "needs_background": "light"
     },
     "output_type": "display_data"
    }
   ],
   "source": [
    "plt.imshow(new_img)"
   ]
  },
  {
   "cell_type": "code",
   "execution_count": null,
   "id": "c67abaa2",
   "metadata": {},
   "outputs": [],
   "source": []
  },
  {
   "cell_type": "code",
   "execution_count": null,
   "id": "db1999b9",
   "metadata": {},
   "outputs": [],
   "source": []
  }
 ],
 "metadata": {
  "kernelspec": {
   "display_name": "Python 3 (ipykernel)",
   "language": "python",
   "name": "python3"
  },
  "language_info": {
   "codemirror_mode": {
    "name": "ipython",
    "version": 3
   },
   "file_extension": ".py",
   "mimetype": "text/x-python",
   "name": "python",
   "nbconvert_exporter": "python",
   "pygments_lexer": "ipython3",
   "version": "3.9.7"
  }
 },
 "nbformat": 4,
 "nbformat_minor": 5
}
